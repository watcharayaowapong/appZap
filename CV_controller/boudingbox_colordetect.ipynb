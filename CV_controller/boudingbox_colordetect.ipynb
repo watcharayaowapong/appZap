{
 "cells": [
  {
   "cell_type": "code",
   "execution_count": 2,
   "metadata": {
    "scrolled": false
   },
   "outputs": [
    {
     "output_type": "error",
     "ename": "KeyboardInterrupt",
     "evalue": "",
     "traceback": [
      "\u001b[0;31m---------------------------------------------------------------------------\u001b[0m",
      "\u001b[0;31mKeyboardInterrupt\u001b[0m                         Traceback (most recent call last)",
      "\u001b[0;32m<ipython-input-2-c726d213db63>\u001b[0m in \u001b[0;36m<module>\u001b[0;34m\u001b[0m\n\u001b[1;32m     10\u001b[0m \u001b[0;34m\u001b[0m\u001b[0m\n\u001b[1;32m     11\u001b[0m \u001b[0;32mwhile\u001b[0m \u001b[0;32mTrue\u001b[0m\u001b[0;34m:\u001b[0m\u001b[0;34m\u001b[0m\u001b[0;34m\u001b[0m\u001b[0m\n\u001b[0;32m---> 12\u001b[0;31m     \u001b[0m_\u001b[0m\u001b[0;34m,\u001b[0m \u001b[0mframe\u001b[0m \u001b[0;34m=\u001b[0m \u001b[0mcap\u001b[0m\u001b[0;34m.\u001b[0m\u001b[0mread\u001b[0m\u001b[0;34m(\u001b[0m\u001b[0;34m)\u001b[0m\u001b[0;34m\u001b[0m\u001b[0;34m\u001b[0m\u001b[0m\n\u001b[0m\u001b[1;32m     13\u001b[0m     \u001b[0mframe\u001b[0m \u001b[0;34m=\u001b[0m \u001b[0mcv2\u001b[0m\u001b[0;34m.\u001b[0m\u001b[0mflip\u001b[0m\u001b[0;34m(\u001b[0m\u001b[0mframe\u001b[0m\u001b[0;34m,\u001b[0m\u001b[0;36m1\u001b[0m\u001b[0;34m)\u001b[0m\u001b[0;34m\u001b[0m\u001b[0;34m\u001b[0m\u001b[0m\n\u001b[1;32m     14\u001b[0m     \u001b[0mframe\u001b[0m \u001b[0;34m=\u001b[0m \u001b[0mimutils\u001b[0m\u001b[0;34m.\u001b[0m\u001b[0mresize\u001b[0m\u001b[0;34m(\u001b[0m\u001b[0mframe\u001b[0m\u001b[0;34m,\u001b[0m\u001b[0mheight\u001b[0m\u001b[0;34m=\u001b[0m\u001b[0;36m700\u001b[0m\u001b[0;34m,\u001b[0m \u001b[0mwidth\u001b[0m\u001b[0;34m=\u001b[0m\u001b[0;36m900\u001b[0m\u001b[0;34m)\u001b[0m\u001b[0;34m\u001b[0m\u001b[0;34m\u001b[0m\u001b[0m\n",
      "\u001b[0;31mKeyboardInterrupt\u001b[0m: "
     ]
    }
   ],
   "source": [
    "import cv2\n",
    "import numpy as np\n",
    "import pyautogui\n",
    "import imutils\n",
    "\n",
    "def Press(key):\n",
    "    pyautogui.press(key)\n",
    "\n",
    "cap = cv2.VideoCapture(0);\n",
    "\n",
    "while True:\n",
    "    _, frame = cap.read()\n",
    "    frame = cv2.flip(frame,1)\n",
    "    frame = imutils.resize(frame,height=700, width=900)\n",
    "\n",
    "    hsv = cv2.cvtColor(frame, cv2.COLOR_BGR2HSV)\n",
    "    \n",
    "    lowred = np.array([131,90,106])\n",
    "    highred = np.array([255,255,255])\n",
    "\n",
    "    lowblue = np.array([40,150,116])\n",
    "    highblue = np.array([255,255,255])\n",
    "\n",
    "    red_mask = cv2.inRange(hsv, lowred, highred)\n",
    "    blue_mask = cv2.inRange(hsv, lowblue, highblue)\n",
    "\n",
    "    # image/frame, start_point, end_point, color, thickness\n",
    "    cv2.rectangle(frame, (0,0), (900,150), (255,0,0),1)\n",
    "    cv2.putText(frame,'UP',(440,80),cv2.FONT_HERSHEY_SIMPLEX,1,(0,0,255),3,cv2.LINE_AA)\n",
    "\n",
    "\n",
    "    cv2.rectangle(frame, (0,160), (150,570), (255,0,0),1)\n",
    "    cv2.putText(frame,'LEFT',(10,350),cv2.FONT_HERSHEY_SIMPLEX,1,(0,0,255),3,cv2.LINE_AA)\n",
    "\n",
    "    cv2.rectangle(frame, (750,160), (900,570), (255,0,0),1)\n",
    "    cv2.putText(frame,'RIGHT',(770,350),cv2.FONT_HERSHEY_SIMPLEX,1,(0,0,255),3,cv2.LINE_AA)\n",
    "\n",
    "    cv2.rectangle(frame, (0,580), (900,700), (255,0,0),1)\n",
    "    cv2.putText(frame,'DOWN',(440,640),cv2.FONT_HERSHEY_SIMPLEX,1,(0,0,255),3,cv2.LINE_AA)\n",
    "\n",
    "    #for the red Object\n",
    "    contours,hierachy=cv2.findContours(red_mask,cv2.RETR_TREE,cv2.CHAIN_APPROX_SIMPLE)\n",
    "    contours = sorted(contours, key=lambda x:cv2.contourArea(x), reverse=True)\n",
    "    #startpoint, endpoint, color, thickness\n",
    "    for cnt in contours:\n",
    "        (x,y,w,h) = cv2.boundingRect(cnt)\n",
    "        cv2.rectangle(frame,(x,y),(x + w, y + h),(0,255,0),2)\n",
    "        if w>60 and h > 60:\n",
    "            #print((x,y,w,h))   \n",
    "                   \n",
    "            if x > 0 and y > 0 and x < 900 and y < 150:\n",
    "                #Press('A') #UP\n",
    "                print('RED UP',x,y,w,h)\n",
    "                break     \n",
    "\n",
    "\n",
    "            if x > 0 and y > 160 and x < 150 and y < 570:\n",
    "                Press('B') #LEFT\n",
    "                print('RED LEFT',x,y,w,h)\n",
    "                break      \n",
    "\n",
    "            if x > 750 and y > 160 and x < 900 and y < 570:\n",
    "                Press('C') #RIGHT\n",
    "                print('RED RIGHT',x,y,w,h)\n",
    "                break      \n",
    "\n",
    "            if x > 0 and y > 580 and x < 900 and y < 700:\n",
    "                Press('D') #DOWN\n",
    "                print('RED DOWN',x,y,w,h)\n",
    "                break      \n",
    "\n",
    "\n",
    "    \n",
    "    #for the blue Object\n",
    "    contours,hierachy=cv2.findContours(blue_mask,cv2.RETR_TREE,cv2.CHAIN_APPROX_SIMPLE)\n",
    "    contours = sorted(contours, key=lambda x:cv2.contourArea(x), reverse=True)\n",
    "    #startpoint, endpoint, color, thickness\n",
    "    for cnt in contours:\n",
    "        (x,y,w,h) = cv2.boundingRect(cnt)\n",
    "        cv2.rectangle(frame,(x,y),(x + w, y + h),(0,255,0),2)\n",
    "        #print((x,y))\n",
    "        if w>60 and h > 60:\n",
    "            #print((x,y,w,h))   \n",
    "                   \n",
    "            if x > 0 and y > 0 and x < 900 and y < 150:\n",
    "                #Press('A') #UP\n",
    "                print('BLUE UP',x,y,w,h)\n",
    "                break     \n",
    "\n",
    "\n",
    "            if x > 0 and y > 160 and x < 150 and y < 570:\n",
    "                Press('B') #LEFT\n",
    "                print('BLUE LEFT',x,y,w,h)\n",
    "                break      \n",
    "\n",
    "            if x > 750 and y > 160 and x < 900 and y < 570:\n",
    "                Press('C') #RIGHT\n",
    "                print('BLUE RIGHT',x,y,w,h)\n",
    "                break      \n",
    "\n",
    "            if x > 0 and y > 580 and x < 900 and y < 700:\n",
    "                Press('D') #DOWN\n",
    "                print('BLUE DOWN',x,y,w,h)\n",
    "                break      \n",
    "  \n",
    "    \n",
    "    \n",
    "    cv2.imshow(\"frame\", frame)\n",
    "    # cv2.imshow(\"mask\", mask)\n",
    "    # cv2.imshow(\"res\", res)\n",
    " \n",
    "    key = cv2.waitKey(1)\n",
    "    if key == 32: #press space for exi t\n",
    "        break\n",
    " \n",
    "cap.release()\n",
    "cv2.destroyAllWindows()"
   ]
  },
  {
   "cell_type": "code",
   "execution_count": 3,
   "metadata": {},
   "outputs": [],
   "source": [
    "cap.release()\n",
    "cv2.destroyAllWindows()"
   ]
  },
  {
   "cell_type": "code",
   "execution_count": 4,
   "metadata": {},
   "outputs": [],
   "source": [
    "#onemotion.com\n",
    "import cv2\n",
    "import numpy as np\n",
    "import pyautogui\n",
    "import imutils\n"
   ]
  },
  {
   "cell_type": "code",
   "execution_count": null,
   "metadata": {},
   "outputs": [],
   "source": [
    "pip install --upgrade setuptools && python -m pip install --upgrade pip"
   ]
  },
  {
   "cell_type": "code",
   "execution_count": null,
   "metadata": {},
   "outputs": [],
   "source": [
    "pip install pyautogui"
   ]
  },
  {
   "cell_type": "code",
   "execution_count": null,
   "metadata": {},
   "outputs": [],
   "source": [
    "python setup.py install"
   ]
  }
 ],
 "metadata": {
  "kernelspec": {
   "name": "python3",
   "display_name": "Python 3.7.4 64-bit ('base': conda)"
  },
  "language_info": {
   "codemirror_mode": {
    "name": "ipython",
    "version": 3
   },
   "file_extension": ".py",
   "mimetype": "text/x-python",
   "name": "python",
   "nbconvert_exporter": "python",
   "pygments_lexer": "ipython3",
   "version": "3.7.4"
  },
  "interpreter": {
   "hash": "549065a99d5b57128b4d49284af0652647c0de2da0beac94f976d77d4860b051"
  }
 },
 "nbformat": 4,
 "nbformat_minor": 4
}