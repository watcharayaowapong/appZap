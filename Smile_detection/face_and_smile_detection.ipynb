{
 "cells": [
  {
   "cell_type": "code",
   "execution_count": 1,
   "metadata": {},
   "outputs": [
    {
     "output_type": "stream",
     "name": "stdout",
     "text": [
      "./haarcascade_frontalface_default.xml loaded successfully.\n./haarcascade_smile.xml loaded successfully.\n"
     ]
    }
   ],
   "source": [
    "import numpy as np\n",
    "import cv2\n",
    "\n",
    "# OpenCV contains many pre-trained classifiers for face, eyes, smile etc.\n",
    "# All we have to do is load the required XML classifiers.\n",
    "face_file = './haarcascade_frontalface_default.xml'\n",
    "eye_file = './haarcascade_eye.xml'\n",
    "smile_file = './haarcascade_smile.xml'\n",
    "\n",
    "face_cascade = cv2.CascadeClassifier( face_file )\n",
    "eye_cascade = cv2.CascadeClassifier( eye_file )\n",
    "smile_cascade = cv2.CascadeClassifier(smile_file)\n",
    "\n",
    "# Check whether the two model files are loaded successfully\n",
    "if not face_cascade.empty() :\n",
    "    print( face_file , \"loaded successfully.\" )\n",
    "else:\n",
    "    print( \"Failed to load\", face_file )\n",
    "\n",
    "if not smile_cascade.empty() :\n",
    "    print( smile_file , \"loaded successfully.\" )\n",
    "else:\n",
    "    print( \"Failed to load\", smile_file )\n",
    "    \n",
    "\n",
    "camera = cv2.VideoCapture(0)\n",
    "while True:\n",
    "    ret,frame_bgr = camera.read()\n",
    "    if ret == False or frame_bgr is None:\n",
    "        print(\"Cannot get an image from the camera.\")\n",
    "        continue\n",
    "\n",
    "    frame_gray = cv2.cvtColor( frame_bgr, cv2.COLOR_BGR2GRAY )\n",
    "\n",
    "    # Detect face(s) in the camera image.\n",
    "    faces = face_cascade.detectMultiScale(frame_gray, scaleFactor=1.3, minNeighbors=5)\n",
    "\n",
    "    # For each detected rectangle of face, draw a blue rectangle.\n",
    "    for (x,y,w,h) in faces: \n",
    "        cv2.rectangle(frame_bgr,(x,y),(x+w,y+h),(255,0,0),2)\n",
    "        \n",
    "        # Detect eyes inside each detected rectangle of face.\n",
    "        # Draw a green rectangle around each detected smile.\n",
    "        roi_gray = frame_gray[y:y+h, x:x+w]\n",
    "        roi_color = frame_bgr[y:y+h, x:x+w]\n",
    "        smiles = smile_cascade.detectMultiScale(roi_gray, 1.8, 20)\n",
    " \n",
    "        for (sx, sy, sw, sh) in smiles:\n",
    "            cv2.rectangle(roi_color, (sx, sy), ((sx + sw), (sy + sh)), (0, 0, 255), 2)            \n",
    "             \n",
    "    cv2.imshow('Live camera + Haar Cascade (face & smile)',frame_bgr)\n",
    "    if cv2.waitKey(1) == 27:    # Press ESC to exit\n",
    "        break\n",
    "\n",
    "cv2.destroyAllWindows()\n",
    "if camera.isOpened():\n",
    "    camera.release()"
   ]
  },
  {
   "cell_type": "code",
   "execution_count": null,
   "metadata": {},
   "outputs": [],
   "source": []
  }
 ],
 "metadata": {
  "kernelspec": {
   "name": "python3",
   "display_name": "Python 3.7.4 64-bit ('base': conda)"
  },
  "language_info": {
   "codemirror_mode": {
    "name": "ipython",
    "version": 3
   },
   "file_extension": ".py",
   "mimetype": "text/x-python",
   "name": "python",
   "nbconvert_exporter": "python",
   "pygments_lexer": "ipython3",
   "version": "3.7.4"
  },
  "interpreter": {
   "hash": "549065a99d5b57128b4d49284af0652647c0de2da0beac94f976d77d4860b051"
  }
 },
 "nbformat": 4,
 "nbformat_minor": 4
}